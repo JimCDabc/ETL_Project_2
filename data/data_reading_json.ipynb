{
 "cells": [
  {
   "cell_type": "code",
   "execution_count": 1,
   "metadata": {},
   "outputs": [],
   "source": [
    "import pandas as pd\n",
    "from sqlalchemy import create_engine\n",
    "import psycopg2"
   ]
  },
  {
   "cell_type": "code",
   "execution_count": 5,
   "metadata": {},
   "outputs": [
    {
     "data": {
      "text/html": [
       "<div>\n",
       "<style scoped>\n",
       "    .dataframe tbody tr th:only-of-type {\n",
       "        vertical-align: middle;\n",
       "    }\n",
       "\n",
       "    .dataframe tbody tr th {\n",
       "        vertical-align: top;\n",
       "    }\n",
       "\n",
       "    .dataframe thead th {\n",
       "        text-align: right;\n",
       "    }\n",
       "</style>\n",
       "<table border=\"1\" class=\"dataframe\">\n",
       "  <thead>\n",
       "    <tr style=\"text-align: right;\">\n",
       "      <th></th>\n",
       "      <th>cat_breeds</th>\n",
       "      <th>dog_breeds</th>\n",
       "    </tr>\n",
       "  </thead>\n",
       "  <tbody>\n",
       "    <tr>\n",
       "      <td>Abyssinian</td>\n",
       "      <td>{'Affectionate with Family': 3, 'Amount of She...</td>\n",
       "      <td>NaN</td>\n",
       "    </tr>\n",
       "    <tr>\n",
       "      <td>American Bobtail</td>\n",
       "      <td>{'Affectionate with Family': 4, 'Amount of She...</td>\n",
       "      <td>NaN</td>\n",
       "    </tr>\n",
       "    <tr>\n",
       "      <td>American Curl</td>\n",
       "      <td>{'Affectionate with Family': 5, 'Amount of She...</td>\n",
       "      <td>NaN</td>\n",
       "    </tr>\n",
       "    <tr>\n",
       "      <td>American Shorthair</td>\n",
       "      <td>{'Affectionate with Family': 3, 'Amount of She...</td>\n",
       "      <td>NaN</td>\n",
       "    </tr>\n",
       "    <tr>\n",
       "      <td>American Wirehair</td>\n",
       "      <td>{'Affectionate with Family': 4, 'Amount of She...</td>\n",
       "      <td>NaN</td>\n",
       "    </tr>\n",
       "  </tbody>\n",
       "</table>\n",
       "</div>"
      ],
      "text/plain": [
       "                                                           cat_breeds  \\\n",
       "Abyssinian          {'Affectionate with Family': 3, 'Amount of She...   \n",
       "American Bobtail    {'Affectionate with Family': 4, 'Amount of She...   \n",
       "American Curl       {'Affectionate with Family': 5, 'Amount of She...   \n",
       "American Shorthair  {'Affectionate with Family': 3, 'Amount of She...   \n",
       "American Wirehair   {'Affectionate with Family': 4, 'Amount of She...   \n",
       "\n",
       "                   dog_breeds  \n",
       "Abyssinian                NaN  \n",
       "American Bobtail          NaN  \n",
       "American Curl             NaN  \n",
       "American Shorthair        NaN  \n",
       "American Wirehair         NaN  "
      ]
     },
     "execution_count": 5,
     "metadata": {},
     "output_type": "execute_result"
    }
   ],
   "source": [
    "dog_file = \"rating.json\"\n",
    "dog_df = pd.read_json(dog_file)\n",
    "dog_df.head()"
   ]
  },
  {
   "cell_type": "code",
   "execution_count": null,
   "metadata": {},
   "outputs": [],
   "source": []
  }
 ],
 "metadata": {
  "kernelspec": {
   "display_name": "Python 3",
   "language": "python",
   "name": "python3"
  },
  "language_info": {
   "codemirror_mode": {
    "name": "ipython",
    "version": 3
   },
   "file_extension": ".py",
   "mimetype": "text/x-python",
   "name": "python",
   "nbconvert_exporter": "python",
   "pygments_lexer": "ipython3",
   "version": "3.7.4"
  }
 },
 "nbformat": 4,
 "nbformat_minor": 2
}
