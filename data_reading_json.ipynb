{
 "cells": [
  {
   "cell_type": "code",
   "execution_count": 7,
   "metadata": {},
   "outputs": [],
   "source": [
    "import pandas as pd\n",
    "from sqlalchemy import create_engine\n",
    "import psycopg2\n",
    "import json\n",
    "from pandas.io.json import json_normalize"
   ]
  },
  {
   "cell_type": "code",
   "execution_count": 14,
   "metadata": {},
   "outputs": [
    {
     "data": {
      "text/plain": [
       "214"
      ]
     },
     "execution_count": 14,
     "metadata": {},
     "output_type": "execute_result"
    }
   ],
   "source": [
    "# use json_normalize to make the json readable\n",
    "with open('data/rating.json') as file: \n",
    "    dog_file = json.load(file) \n",
    "dog_df = json_normalize(dog_file['dog_breeds'])\n",
    "dog_df.head(10)\n",
    "\n",
    "# clean up columns by separating breeds and traits\n",
    "breeds = dog_df.columns.str.split('.').str[0]\n",
    "traits = dog_df.columns.str.split('.').str[1]\n",
    "\n",
    "#drop duplicates to establish the number of unique values for each axis\n",
    "breeds = breeds.drop_duplicates()\n",
    "traits = traits.drop_duplicates()\n",
    "\n",
    "#determine how many breeds there are and how many traits are measured (214 breeds)\n",
    "len(breeds), le\n",
    "# new_dog_df = pd.DataFrame(index=breeds, columns=traits)\n",
    "# new_dog_df"
   ]
  },
  {
   "cell_type": "code",
   "execution_count": null,
   "metadata": {},
   "outputs": [],
   "source": []
  }
 ],
 "metadata": {
  "kernelspec": {
   "display_name": "Python 3",
   "language": "python",
   "name": "python3"
  },
  "language_info": {
   "codemirror_mode": {
    "name": "ipython",
    "version": 3
   },
   "file_extension": ".py",
   "mimetype": "text/x-python",
   "name": "python",
   "nbconvert_exporter": "python",
   "pygments_lexer": "ipython3",
   "version": "3.7.4"
  }
 },
 "nbformat": 4,
 "nbformat_minor": 2
}
