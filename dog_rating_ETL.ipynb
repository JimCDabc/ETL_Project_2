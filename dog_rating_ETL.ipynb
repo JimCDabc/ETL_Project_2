{
 "cells": [
  {
   "cell_type": "code",
   "execution_count": 112,
   "metadata": {},
   "outputs": [],
   "source": [
    "import pandas as pd\n",
    "from sqlalchemy import create_engine\n",
    "import psycopg2\n",
    "import json\n",
    "from config import postgresLogin, postgresPwd\n",
    "from pandas.io.json import json_normalize"
   ]
  },
  {
   "cell_type": "code",
   "execution_count": 130,
   "metadata": {},
   "outputs": [
    {
     "data": {
      "text/html": "<div>\n<style scoped>\n    .dataframe tbody tr th:only-of-type {\n        vertical-align: middle;\n    }\n\n    .dataframe tbody tr th {\n        vertical-align: top;\n    }\n\n    .dataframe thead th {\n        text-align: right;\n    }\n</style>\n<table border=\"1\" class=\"dataframe\">\n  <thead>\n    <tr style=\"text-align: right;\">\n      <th></th>\n      <th>Affenpinscher. Adaptability</th>\n      <th>Affenpinscher. All Around Friendliness</th>\n      <th>Affenpinscher. Exercise Needs</th>\n      <th>Affenpinscher. Health Grooming</th>\n      <th>Affenpinscher. Trainability</th>\n      <th>Affenpinscher.Adapts Well to Apartment Living</th>\n      <th>Affenpinscher.Affectionate with Family</th>\n      <th>Affenpinscher.Amount Of Shedding</th>\n      <th>Affenpinscher.Dog Friendly</th>\n      <th>Affenpinscher.Drooling Potential</th>\n      <th>...</th>\n      <th>Yorkshire Terrier.Potential For Playfulness</th>\n      <th>Yorkshire Terrier.Potential For Weight Gain</th>\n      <th>Yorkshire Terrier.Prey Drive</th>\n      <th>Yorkshire Terrier.Sensitivity Level</th>\n      <th>Yorkshire Terrier.Size</th>\n      <th>Yorkshire Terrier.Tendency To Bark Or Howl</th>\n      <th>Yorkshire Terrier.Tolerates Being Alone</th>\n      <th>Yorkshire Terrier.Tolerates Cold Weather</th>\n      <th>Yorkshire Terrier.Tolerates Hot Weather</th>\n      <th>Yorkshire Terrier.Wanderlust Potential</th>\n    </tr>\n  </thead>\n  <tbody>\n    <tr>\n      <td>0</td>\n      <td>3</td>\n      <td>3</td>\n      <td>4</td>\n      <td>2</td>\n      <td>3</td>\n      <td>5</td>\n      <td>5</td>\n      <td>1</td>\n      <td>4</td>\n      <td>1</td>\n      <td>...</td>\n      <td>5</td>\n      <td>2</td>\n      <td>2</td>\n      <td>5</td>\n      <td>1</td>\n      <td>3</td>\n      <td>2</td>\n      <td>2</td>\n      <td>2</td>\n      <td>3</td>\n    </tr>\n  </tbody>\n</table>\n<p>1 rows × 6634 columns</p>\n</div>",
      "text/plain": "   Affenpinscher. Adaptability  Affenpinscher. All Around Friendliness  \\\n0                            3                                       3   \n\n   Affenpinscher. Exercise Needs  Affenpinscher. Health Grooming  \\\n0                              4                               2   \n\n   Affenpinscher. Trainability  Affenpinscher.Adapts Well to Apartment Living  \\\n0                            3                                              5   \n\n   Affenpinscher.Affectionate with Family  Affenpinscher.Amount Of Shedding  \\\n0                                       5                                 1   \n\n   Affenpinscher.Dog Friendly  Affenpinscher.Drooling Potential  ...  \\\n0                           4                                 1  ...   \n\n   Yorkshire Terrier.Potential For Playfulness  \\\n0                                            5   \n\n   Yorkshire Terrier.Potential For Weight Gain  Yorkshire Terrier.Prey Drive  \\\n0                                            2                             2   \n\n   Yorkshire Terrier.Sensitivity Level  Yorkshire Terrier.Size  \\\n0                                    5                       1   \n\n   Yorkshire Terrier.Tendency To Bark Or Howl  \\\n0                                           3   \n\n   Yorkshire Terrier.Tolerates Being Alone  \\\n0                                        2   \n\n   Yorkshire Terrier.Tolerates Cold Weather  \\\n0                                         2   \n\n   Yorkshire Terrier.Tolerates Hot Weather  \\\n0                                        2   \n\n   Yorkshire Terrier.Wanderlust Potential  \n0                                       3  \n\n[1 rows x 6634 columns]"
     },
     "execution_count": 130,
     "metadata": {},
     "output_type": "execute_result"
    }
   ],
   "source": [
    "# use json_normalize to make the json readable\n",
    "with open('data/rating.json') as file: \n",
    "    dog_file = json.load(file) \n",
    "dog_df = json_normalize(dog_file['dog_breeds'])\n",
    "dog_df.head(10)"
   ]
  },
  {
   "cell_type": "code",
   "execution_count": 131,
   "metadata": {},
   "outputs": [
    {
     "data": {
      "text/plain": "(214, 31)"
     },
     "execution_count": 131,
     "metadata": {},
     "output_type": "execute_result"
    }
   ],
   "source": [
    "# clean up columns by separating breeds and traits\n",
    "breeds = dog_df.columns.str.split('.').str[0]\n",
    "traits = dog_df.columns.str.split('.').str[1]\n",
    "\n",
    "#drop duplicates to establish the number of unique values for each axis\n",
    "breeds = breeds.drop_duplicates()\n",
    "traits = traits.drop_duplicates()\n",
    "\n",
    "#determine how many breeds there are and how many traits are measured (214 breeds and 31 traits)\n",
    "len(breeds), len(traits)"
   ]
  },
  {
   "cell_type": "code",
   "execution_count": 132,
   "metadata": {},
   "outputs": [
    {
     "data": {
      "text/html": "<div>\n<style scoped>\n    .dataframe tbody tr th:only-of-type {\n        vertical-align: middle;\n    }\n\n    .dataframe tbody tr th {\n        vertical-align: top;\n    }\n\n    .dataframe thead th {\n        text-align: right;\n    }\n</style>\n<table border=\"1\" class=\"dataframe\">\n  <thead>\n    <tr style=\"text-align: right;\">\n      <th></th>\n      <th>Adaptability</th>\n      <th>All Around Friendliness</th>\n      <th>Exercise Needs</th>\n      <th>Health Grooming</th>\n      <th>Trainability</th>\n      <th>Adapts Well to Apartment Living</th>\n      <th>Affectionate with Family</th>\n      <th>Amount Of Shedding</th>\n      <th>Dog Friendly</th>\n      <th>Drooling Potential</th>\n      <th>...</th>\n      <th>Potential For Playfulness</th>\n      <th>Potential For Weight Gain</th>\n      <th>Prey Drive</th>\n      <th>Sensitivity Level</th>\n      <th>Size</th>\n      <th>Tendency To Bark Or Howl</th>\n      <th>Tolerates Being Alone</th>\n      <th>Tolerates Cold Weather</th>\n      <th>Tolerates Hot Weather</th>\n      <th>Wanderlust Potential</th>\n    </tr>\n  </thead>\n  <tbody>\n    <tr>\n      <td>Affenpinscher</td>\n      <td>3</td>\n      <td>3</td>\n      <td>4</td>\n      <td>2</td>\n      <td>3</td>\n      <td>5</td>\n      <td>5</td>\n      <td>1</td>\n      <td>4</td>\n      <td>1</td>\n      <td>...</td>\n      <td>4</td>\n      <td>3</td>\n      <td>3</td>\n      <td>3</td>\n      <td>1</td>\n      <td>2</td>\n      <td>1</td>\n      <td>3</td>\n      <td>3</td>\n      <td>2</td>\n    </tr>\n    <tr>\n      <td>Afghan Hound</td>\n      <td>4</td>\n      <td>4</td>\n      <td>4</td>\n      <td>2</td>\n      <td>3</td>\n      <td>5</td>\n      <td>5</td>\n      <td>4</td>\n      <td>4</td>\n      <td>1</td>\n      <td>...</td>\n      <td>4</td>\n      <td>1</td>\n      <td>5</td>\n      <td>5</td>\n      <td>4</td>\n      <td>2</td>\n      <td>2</td>\n      <td>5</td>\n      <td>5</td>\n      <td>5</td>\n    </tr>\n    <tr>\n      <td>Airedale Terrier</td>\n      <td>2</td>\n      <td>4</td>\n      <td>5</td>\n      <td>3</td>\n      <td>5</td>\n      <td>1</td>\n      <td>4</td>\n      <td>2</td>\n      <td>4</td>\n      <td>1</td>\n      <td>...</td>\n      <td>5</td>\n      <td>4</td>\n      <td>5</td>\n      <td>3</td>\n      <td>3</td>\n      <td>4</td>\n      <td>2</td>\n      <td>3</td>\n      <td>3</td>\n      <td>4</td>\n    </tr>\n    <tr>\n      <td>Akita</td>\n      <td>3</td>\n      <td>2</td>\n      <td>4</td>\n      <td>4</td>\n      <td>4</td>\n      <td>2</td>\n      <td>5</td>\n      <td>5</td>\n      <td>1</td>\n      <td>5</td>\n      <td>...</td>\n      <td>5</td>\n      <td>4</td>\n      <td>4</td>\n      <td>5</td>\n      <td>4</td>\n      <td>5</td>\n      <td>1</td>\n      <td>5</td>\n      <td>2</td>\n      <td>4</td>\n    </tr>\n    <tr>\n      <td>Alaskan Klee Kai</td>\n      <td>3</td>\n      <td>3</td>\n      <td>4</td>\n      <td>3</td>\n      <td>4</td>\n      <td>3</td>\n      <td>4</td>\n      <td>4</td>\n      <td>2</td>\n      <td>2</td>\n      <td>...</td>\n      <td>4</td>\n      <td>2</td>\n      <td>5</td>\n      <td>4</td>\n      <td>2</td>\n      <td>3</td>\n      <td>2</td>\n      <td>5</td>\n      <td>2</td>\n      <td>4</td>\n    </tr>\n    <tr>\n      <td>...</td>\n      <td>...</td>\n      <td>...</td>\n      <td>...</td>\n      <td>...</td>\n      <td>...</td>\n      <td>...</td>\n      <td>...</td>\n      <td>...</td>\n      <td>...</td>\n      <td>...</td>\n      <td>...</td>\n      <td>...</td>\n      <td>...</td>\n      <td>...</td>\n      <td>...</td>\n      <td>...</td>\n      <td>...</td>\n      <td>...</td>\n      <td>...</td>\n      <td>...</td>\n      <td>...</td>\n    </tr>\n    <tr>\n      <td>West Highland White Terrier</td>\n      <td>4</td>\n      <td>4</td>\n      <td>4</td>\n      <td>3</td>\n      <td>4</td>\n      <td>4</td>\n      <td>5</td>\n      <td>4</td>\n      <td>5</td>\n      <td>1</td>\n      <td>...</td>\n      <td>4</td>\n      <td>4</td>\n      <td>4</td>\n      <td>4</td>\n      <td>2</td>\n      <td>4</td>\n      <td>2</td>\n      <td>4</td>\n      <td>3</td>\n      <td>3</td>\n    </tr>\n    <tr>\n      <td>Whippet</td>\n      <td>3</td>\n      <td>5</td>\n      <td>4</td>\n      <td>3</td>\n      <td>4</td>\n      <td>5</td>\n      <td>5</td>\n      <td>2</td>\n      <td>4</td>\n      <td>1</td>\n      <td>...</td>\n      <td>5</td>\n      <td>1</td>\n      <td>5</td>\n      <td>5</td>\n      <td>3</td>\n      <td>1</td>\n      <td>2</td>\n      <td>1</td>\n      <td>4</td>\n      <td>4</td>\n    </tr>\n    <tr>\n      <td>Wirehaired Pointing Griffon</td>\n      <td>3</td>\n      <td>5</td>\n      <td>4</td>\n      <td>3</td>\n      <td>4</td>\n      <td>1</td>\n      <td>5</td>\n      <td>1</td>\n      <td>4</td>\n      <td>1</td>\n      <td>...</td>\n      <td>5</td>\n      <td>3</td>\n      <td>4</td>\n      <td>4</td>\n      <td>3</td>\n      <td>4</td>\n      <td>1</td>\n      <td>4</td>\n      <td>3</td>\n      <td>4</td>\n    </tr>\n    <tr>\n      <td>Yorkipoo</td>\n      <td>4</td>\n      <td>4</td>\n      <td>4</td>\n      <td>2</td>\n      <td>4</td>\n      <td>5</td>\n      <td>5</td>\n      <td>1</td>\n      <td>3</td>\n      <td>1</td>\n      <td>...</td>\n      <td>4</td>\n      <td>2</td>\n      <td>3</td>\n      <td>4</td>\n      <td>1</td>\n      <td>5</td>\n      <td>3</td>\n      <td>2</td>\n      <td>3</td>\n      <td>2</td>\n    </tr>\n    <tr>\n      <td>Yorkshire Terrier</td>\n      <td>3</td>\n      <td>3</td>\n      <td>5</td>\n      <td>2</td>\n      <td>3</td>\n      <td>5</td>\n      <td>4</td>\n      <td>2</td>\n      <td>3</td>\n      <td>1</td>\n      <td>...</td>\n      <td>5</td>\n      <td>2</td>\n      <td>2</td>\n      <td>5</td>\n      <td>1</td>\n      <td>3</td>\n      <td>2</td>\n      <td>2</td>\n      <td>2</td>\n      <td>3</td>\n    </tr>\n  </tbody>\n</table>\n<p>214 rows × 31 columns</p>\n</div>",
      "text/plain": "                              Adaptability   All Around Friendliness  \\\nAffenpinscher                            3                         3   \nAfghan Hound                             4                         4   \nAiredale Terrier                         2                         4   \nAkita                                    3                         2   \nAlaskan Klee Kai                         3                         3   \n...                                    ...                       ...   \nWest Highland White Terrier              4                         4   \nWhippet                                  3                         5   \nWirehaired Pointing Griffon              3                         5   \nYorkipoo                                 4                         4   \nYorkshire Terrier                        3                         3   \n\n                              Exercise Needs   Health Grooming   Trainability  \\\nAffenpinscher                              4                 2              3   \nAfghan Hound                               4                 2              3   \nAiredale Terrier                           5                 3              5   \nAkita                                      4                 4              4   \nAlaskan Klee Kai                           4                 3              4   \n...                                      ...               ...            ...   \nWest Highland White Terrier                4                 3              4   \nWhippet                                    4                 3              4   \nWirehaired Pointing Griffon                4                 3              4   \nYorkipoo                                   4                 2              4   \nYorkshire Terrier                          5                 2              3   \n\n                             Adapts Well to Apartment Living  \\\nAffenpinscher                                              5   \nAfghan Hound                                               5   \nAiredale Terrier                                           1   \nAkita                                                      2   \nAlaskan Klee Kai                                           3   \n...                                                      ...   \nWest Highland White Terrier                                4   \nWhippet                                                    5   \nWirehaired Pointing Griffon                                1   \nYorkipoo                                                   5   \nYorkshire Terrier                                          5   \n\n                             Affectionate with Family  Amount Of Shedding  \\\nAffenpinscher                                       5                   1   \nAfghan Hound                                        5                   4   \nAiredale Terrier                                    4                   2   \nAkita                                               5                   5   \nAlaskan Klee Kai                                    4                   4   \n...                                               ...                 ...   \nWest Highland White Terrier                         5                   4   \nWhippet                                             5                   2   \nWirehaired Pointing Griffon                         5                   1   \nYorkipoo                                            5                   1   \nYorkshire Terrier                                   4                   2   \n\n                             Dog Friendly  Drooling Potential  ...  \\\nAffenpinscher                           4                   1  ...   \nAfghan Hound                            4                   1  ...   \nAiredale Terrier                        4                   1  ...   \nAkita                                   1                   5  ...   \nAlaskan Klee Kai                        2                   2  ...   \n...                                   ...                 ...  ...   \nWest Highland White Terrier             5                   1  ...   \nWhippet                                 4                   1  ...   \nWirehaired Pointing Griffon             4                   1  ...   \nYorkipoo                                3                   1  ...   \nYorkshire Terrier                       3                   1  ...   \n\n                             Potential For Playfulness  \\\nAffenpinscher                                        4   \nAfghan Hound                                         4   \nAiredale Terrier                                     5   \nAkita                                                5   \nAlaskan Klee Kai                                     4   \n...                                                ...   \nWest Highland White Terrier                          4   \nWhippet                                              5   \nWirehaired Pointing Griffon                          5   \nYorkipoo                                             4   \nYorkshire Terrier                                    5   \n\n                             Potential For Weight Gain  Prey Drive  \\\nAffenpinscher                                        3           3   \nAfghan Hound                                         1           5   \nAiredale Terrier                                     4           5   \nAkita                                                4           4   \nAlaskan Klee Kai                                     2           5   \n...                                                ...         ...   \nWest Highland White Terrier                          4           4   \nWhippet                                              1           5   \nWirehaired Pointing Griffon                          3           4   \nYorkipoo                                             2           3   \nYorkshire Terrier                                    2           2   \n\n                             Sensitivity Level  Size  \\\nAffenpinscher                                3     1   \nAfghan Hound                                 5     4   \nAiredale Terrier                             3     3   \nAkita                                        5     4   \nAlaskan Klee Kai                             4     2   \n...                                        ...   ...   \nWest Highland White Terrier                  4     2   \nWhippet                                      5     3   \nWirehaired Pointing Griffon                  4     3   \nYorkipoo                                     4     1   \nYorkshire Terrier                            5     1   \n\n                             Tendency To Bark Or Howl  Tolerates Being Alone  \\\nAffenpinscher                                       2                      1   \nAfghan Hound                                        2                      2   \nAiredale Terrier                                    4                      2   \nAkita                                               5                      1   \nAlaskan Klee Kai                                    3                      2   \n...                                               ...                    ...   \nWest Highland White Terrier                         4                      2   \nWhippet                                             1                      2   \nWirehaired Pointing Griffon                         4                      1   \nYorkipoo                                            5                      3   \nYorkshire Terrier                                   3                      2   \n\n                             Tolerates Cold Weather  Tolerates Hot Weather  \\\nAffenpinscher                                     3                      3   \nAfghan Hound                                      5                      5   \nAiredale Terrier                                  3                      3   \nAkita                                             5                      2   \nAlaskan Klee Kai                                  5                      2   \n...                                             ...                    ...   \nWest Highland White Terrier                       4                      3   \nWhippet                                           1                      4   \nWirehaired Pointing Griffon                       4                      3   \nYorkipoo                                          2                      3   \nYorkshire Terrier                                 2                      2   \n\n                             Wanderlust Potential  \nAffenpinscher                                   2  \nAfghan Hound                                    5  \nAiredale Terrier                                4  \nAkita                                           4  \nAlaskan Klee Kai                                4  \n...                                           ...  \nWest Highland White Terrier                     3  \nWhippet                                         4  \nWirehaired Pointing Griffon                     4  \nYorkipoo                                        2  \nYorkshire Terrier                               3  \n\n[214 rows x 31 columns]"
     },
     "execution_count": 132,
     "metadata": {},
     "output_type": "execute_result"
    }
   ],
   "source": [
    "#resize the shape of the values to fit the new dataframe\n",
    "dog_array = dog_df.values\n",
    "dog_array.resize(len(breeds),len(traits))\n",
    "dog_array.shape\n",
    "\n",
    "new_dog_df = pd.DataFrame(dog_array, index=breeds, columns=traits)\n",
    "#return the new dataframe\n",
    "new_dog_df"
   ]
  },
  {
   "cell_type": "code",
   "execution_count": 133,
   "metadata": {},
   "outputs": [
    {
     "data": {
      "text/plain": "Index([' Adaptability', ' All Around Friendliness', ' Exercise Needs',\n       ' Health Grooming', ' Trainability', 'Adapts Well to Apartment Living',\n       'Affectionate with Family', 'Amount Of Shedding', 'Dog Friendly',\n       'Drooling Potential', 'Easy To Groom', 'Easy To Train', 'Energy Level',\n       'Exercise Needs', 'Friendly Toward Strangers', 'General Health',\n       'Good For Novice Owners', 'Incredibly Kid Friendly Dogs',\n       'Intelligence', 'Intensity', 'Potential For Mouthiness',\n       'Potential For Playfulness', 'Potential For Weight Gain', 'Prey Drive',\n       'Sensitivity Level', 'Size', 'Tendency To Bark Or Howl',\n       'Tolerates Being Alone', 'Tolerates Cold Weather',\n       'Tolerates Hot Weather', 'Wanderlust Potential'],\n      dtype='object')"
     },
     "execution_count": 133,
     "metadata": {},
     "output_type": "execute_result"
    }
   ],
   "source": [
    "new_dog_df.columns"
   ]
  },
  {
   "cell_type": "code",
   "execution_count": 134,
   "metadata": {},
   "outputs": [
    {
     "data": {
      "text/html": "<div>\n<style scoped>\n    .dataframe tbody tr th:only-of-type {\n        vertical-align: middle;\n    }\n\n    .dataframe tbody tr th {\n        vertical-align: top;\n    }\n\n    .dataframe thead th {\n        text-align: right;\n    }\n</style>\n<table border=\"1\" class=\"dataframe\">\n  <thead>\n    <tr style=\"text-align: right;\">\n      <th></th>\n      <th>All Around Friendliness</th>\n      <th>Energy Level</th>\n      <th>Exercise Needs</th>\n      <th>Friendly Toward Strangers</th>\n      <th>Incredibly Kid Friendly Dogs</th>\n      <th>Intelligence</th>\n      <th>Size</th>\n    </tr>\n  </thead>\n  <tbody>\n    <tr>\n      <td>Affenpinscher</td>\n      <td>3</td>\n      <td>4</td>\n      <td>3</td>\n      <td>3</td>\n      <td>1</td>\n      <td>4</td>\n      <td>1</td>\n    </tr>\n    <tr>\n      <td>Afghan Hound</td>\n      <td>4</td>\n      <td>5</td>\n      <td>4</td>\n      <td>2</td>\n      <td>5</td>\n      <td>4</td>\n      <td>4</td>\n    </tr>\n    <tr>\n      <td>Airedale Terrier</td>\n      <td>4</td>\n      <td>5</td>\n      <td>5</td>\n      <td>3</td>\n      <td>4</td>\n      <td>5</td>\n      <td>3</td>\n    </tr>\n    <tr>\n      <td>Akita</td>\n      <td>2</td>\n      <td>4</td>\n      <td>4</td>\n      <td>2</td>\n      <td>1</td>\n      <td>3</td>\n      <td>4</td>\n    </tr>\n    <tr>\n      <td>Alaskan Klee Kai</td>\n      <td>3</td>\n      <td>4</td>\n      <td>4</td>\n      <td>2</td>\n      <td>3</td>\n      <td>4</td>\n      <td>2</td>\n    </tr>\n    <tr>\n      <td>...</td>\n      <td>...</td>\n      <td>...</td>\n      <td>...</td>\n      <td>...</td>\n      <td>...</td>\n      <td>...</td>\n      <td>...</td>\n    </tr>\n    <tr>\n      <td>West Highland White Terrier</td>\n      <td>4</td>\n      <td>4</td>\n      <td>4</td>\n      <td>3</td>\n      <td>4</td>\n      <td>4</td>\n      <td>2</td>\n    </tr>\n    <tr>\n      <td>Whippet</td>\n      <td>5</td>\n      <td>5</td>\n      <td>5</td>\n      <td>4</td>\n      <td>5</td>\n      <td>4</td>\n      <td>3</td>\n    </tr>\n    <tr>\n      <td>Wirehaired Pointing Griffon</td>\n      <td>5</td>\n      <td>5</td>\n      <td>4</td>\n      <td>5</td>\n      <td>5</td>\n      <td>5</td>\n      <td>3</td>\n    </tr>\n    <tr>\n      <td>Yorkipoo</td>\n      <td>4</td>\n      <td>5</td>\n      <td>3</td>\n      <td>2</td>\n      <td>4</td>\n      <td>4</td>\n      <td>1</td>\n    </tr>\n    <tr>\n      <td>Yorkshire Terrier</td>\n      <td>3</td>\n      <td>5</td>\n      <td>4</td>\n      <td>2</td>\n      <td>2</td>\n      <td>3</td>\n      <td>1</td>\n    </tr>\n  </tbody>\n</table>\n<p>214 rows × 7 columns</p>\n</div>",
      "text/plain": "                              All Around Friendliness  Energy Level  \\\nAffenpinscher                                       3             4   \nAfghan Hound                                        4             5   \nAiredale Terrier                                    4             5   \nAkita                                               2             4   \nAlaskan Klee Kai                                    3             4   \n...                                               ...           ...   \nWest Highland White Terrier                         4             4   \nWhippet                                             5             5   \nWirehaired Pointing Griffon                         5             5   \nYorkipoo                                            4             5   \nYorkshire Terrier                                   3             5   \n\n                             Exercise Needs  Friendly Toward Strangers  \\\nAffenpinscher                             3                          3   \nAfghan Hound                              4                          2   \nAiredale Terrier                          5                          3   \nAkita                                     4                          2   \nAlaskan Klee Kai                          4                          2   \n...                                     ...                        ...   \nWest Highland White Terrier               4                          3   \nWhippet                                   5                          4   \nWirehaired Pointing Griffon               4                          5   \nYorkipoo                                  3                          2   \nYorkshire Terrier                         4                          2   \n\n                             Incredibly Kid Friendly Dogs  Intelligence  Size  \nAffenpinscher                                           1             4     1  \nAfghan Hound                                            5             4     4  \nAiredale Terrier                                        4             5     3  \nAkita                                                   1             3     4  \nAlaskan Klee Kai                                        3             4     2  \n...                                                   ...           ...   ...  \nWest Highland White Terrier                             4             4     2  \nWhippet                                                 5             4     3  \nWirehaired Pointing Griffon                             5             5     3  \nYorkipoo                                                4             4     1  \nYorkshire Terrier                                       2             3     1  \n\n[214 rows x 7 columns]"
     },
     "execution_count": 134,
     "metadata": {},
     "output_type": "execute_result"
    }
   ],
   "source": [
    "#narrow list of traits to most relevant subset\n",
    "new_dog_df = new_dog_df[[' All Around Friendliness', 'Energy Level','Exercise Needs', 'Friendly Toward Strangers', 'Incredibly Kid Friendly Dogs', 'Intelligence', 'Size']]\n",
    "\n",
    "new_dog_df"
   ]
  },
  {
   "cell_type": "code",
   "execution_count": 135,
   "metadata": {},
   "outputs": [
    {
     "data": {
      "text/html": "<div>\n<style scoped>\n    .dataframe tbody tr th:only-of-type {\n        vertical-align: middle;\n    }\n\n    .dataframe tbody tr th {\n        vertical-align: top;\n    }\n\n    .dataframe thead th {\n        text-align: right;\n    }\n</style>\n<table border=\"1\" class=\"dataframe\">\n  <thead>\n    <tr style=\"text-align: right;\">\n      <th></th>\n      <th>size</th>\n      <th>intelligence</th>\n      <th>energy</th>\n      <th>exercise_needs</th>\n      <th>friendly_overall</th>\n      <th>friendly_kids</th>\n      <th>friendly_strangers</th>\n    </tr>\n  </thead>\n  <tbody>\n    <tr>\n      <td>Affenpinscher</td>\n      <td>1</td>\n      <td>4</td>\n      <td>4</td>\n      <td>3</td>\n      <td>3</td>\n      <td>1</td>\n      <td>3</td>\n    </tr>\n    <tr>\n      <td>Afghan Hound</td>\n      <td>4</td>\n      <td>4</td>\n      <td>5</td>\n      <td>4</td>\n      <td>4</td>\n      <td>5</td>\n      <td>2</td>\n    </tr>\n    <tr>\n      <td>Airedale Terrier</td>\n      <td>3</td>\n      <td>5</td>\n      <td>5</td>\n      <td>5</td>\n      <td>4</td>\n      <td>4</td>\n      <td>3</td>\n    </tr>\n    <tr>\n      <td>Akita</td>\n      <td>4</td>\n      <td>3</td>\n      <td>4</td>\n      <td>4</td>\n      <td>2</td>\n      <td>1</td>\n      <td>2</td>\n    </tr>\n    <tr>\n      <td>Alaskan Klee Kai</td>\n      <td>2</td>\n      <td>4</td>\n      <td>4</td>\n      <td>4</td>\n      <td>3</td>\n      <td>3</td>\n      <td>2</td>\n    </tr>\n    <tr>\n      <td>...</td>\n      <td>...</td>\n      <td>...</td>\n      <td>...</td>\n      <td>...</td>\n      <td>...</td>\n      <td>...</td>\n      <td>...</td>\n    </tr>\n    <tr>\n      <td>West Highland White Terrier</td>\n      <td>2</td>\n      <td>4</td>\n      <td>4</td>\n      <td>4</td>\n      <td>4</td>\n      <td>4</td>\n      <td>3</td>\n    </tr>\n    <tr>\n      <td>Whippet</td>\n      <td>3</td>\n      <td>4</td>\n      <td>5</td>\n      <td>5</td>\n      <td>5</td>\n      <td>5</td>\n      <td>4</td>\n    </tr>\n    <tr>\n      <td>Wirehaired Pointing Griffon</td>\n      <td>3</td>\n      <td>5</td>\n      <td>5</td>\n      <td>4</td>\n      <td>5</td>\n      <td>5</td>\n      <td>5</td>\n    </tr>\n    <tr>\n      <td>Yorkipoo</td>\n      <td>1</td>\n      <td>4</td>\n      <td>5</td>\n      <td>3</td>\n      <td>4</td>\n      <td>4</td>\n      <td>2</td>\n    </tr>\n    <tr>\n      <td>Yorkshire Terrier</td>\n      <td>1</td>\n      <td>3</td>\n      <td>5</td>\n      <td>4</td>\n      <td>3</td>\n      <td>2</td>\n      <td>2</td>\n    </tr>\n  </tbody>\n</table>\n<p>214 rows × 7 columns</p>\n</div>",
      "text/plain": "                             size  intelligence  energy  exercise_needs  \\\nAffenpinscher                   1             4       4               3   \nAfghan Hound                    4             4       5               4   \nAiredale Terrier                3             5       5               5   \nAkita                           4             3       4               4   \nAlaskan Klee Kai                2             4       4               4   \n...                           ...           ...     ...             ...   \nWest Highland White Terrier     2             4       4               4   \nWhippet                         3             4       5               5   \nWirehaired Pointing Griffon     3             5       5               4   \nYorkipoo                        1             4       5               3   \nYorkshire Terrier               1             3       5               4   \n\n                             friendly_overall  friendly_kids  \\\nAffenpinscher                               3              1   \nAfghan Hound                                4              5   \nAiredale Terrier                            4              4   \nAkita                                       2              1   \nAlaskan Klee Kai                            3              3   \n...                                       ...            ...   \nWest Highland White Terrier                 4              4   \nWhippet                                     5              5   \nWirehaired Pointing Griffon                 5              5   \nYorkipoo                                    4              4   \nYorkshire Terrier                           3              2   \n\n                             friendly_strangers  \nAffenpinscher                                 3  \nAfghan Hound                                  2  \nAiredale Terrier                              3  \nAkita                                         2  \nAlaskan Klee Kai                              2  \n...                                         ...  \nWest Highland White Terrier                   3  \nWhippet                                       4  \nWirehaired Pointing Griffon                   5  \nYorkipoo                                      2  \nYorkshire Terrier                             2  \n\n[214 rows x 7 columns]"
     },
     "execution_count": 135,
     "metadata": {},
     "output_type": "execute_result"
    }
   ],
   "source": [
    "#rename and reorganize columns\n",
    "new_dog_df = new_dog_df.rename(columns={' All Around Friendliness': 'friendly_overall', 'Energy Level': 'energy', 'Exercise Needs': 'exercise_needs', 'Friendly Toward Strangers': 'friendly_strangers', 'Incredibly Kid Friendly Dogs': 'friendly_kids', 'Intelligence': 'intelligence', 'Size': 'size'})\n",
    "\n",
    "new_dog_df = new_dog_df[['size', 'intelligence', 'energy', 'exercise_needs', 'friendly_overall', 'friendly_kids', 'friendly_strangers']]\n",
    "\n",
    "new_dog_df"
   ]
  },
  {
   "cell_type": "code",
   "execution_count": 136,
   "metadata": {},
   "outputs": [
    {
     "data": {
      "text/plain": "array(['Affenpinscher', 'Afghan Hound', 'Airedale Terrier', 'Akita',\n       'Alaskan Klee Kai', 'Alaskan Malamute', 'American Bulldog',\n       'American English Coonhound', 'American Eskimo Dog',\n       'American Foxhound', 'American Pit Bull Terrier',\n       'American Staffordshire Terrier', 'American Water Spaniel',\n       'Anatolian Shepherd Dog', 'Appenzeller Sennenhunde',\n       'Australian Cattle Dog', 'Australian Kelpie',\n       'Australian Shepherd', 'Australian Terrier', 'Azawakh', 'Barbet',\n       'Basenji', 'Basset Hound', 'Beagle', 'Bearded Collie',\n       'Bedlington Terrier', 'Belgian Malinois', 'Belgian Sheepdog',\n       'Belgian Tervuren', 'Berger Picard', 'Bernedoodle',\n       'Bernese Mountain Dog', 'Bichon Frise', 'Black Mouth Cur',\n       'Black Russian Terrier', 'Black and Tan Coonhound', 'Bloodhound',\n       'Blue Lacy', 'Bluetick Coonhound', 'Boerboel', 'Bolognese',\n       'Border Collie', 'Border Terrier', 'Borzoi', 'Boston Terrier',\n       'Bouvier des Flandres', 'Boxer', 'Boykin Spaniel',\n       'Bracco Italiano', 'Briard', 'Brittany', 'Brussels Griffon',\n       'Bull Terrier', 'Bulldog', 'Bullmastiff', 'Cairn Terrier',\n       'Canaan Dog', 'Cane Corso', 'Cardigan Welsh Corgi',\n       'Catahoula Leopard Dog', 'Caucasian Shepherd Dog',\n       'Cavalier King Charles Spaniel', 'Cesky Terrier',\n       'Chesapeake Bay Retriever', 'Chihuahua', 'Chinese Crested',\n       'Chinese Shar-Pei', 'Chinook', 'Chow Chow', 'Clumber Spaniel',\n       'Cockapoo', 'Cocker Spaniel', 'Collie', 'Coton de Tulear',\n       'Curly-Coated Retriever', 'Dachshund', 'Dalmatian',\n       'Dandie Dinmont Terrier', 'Doberman Pinscher', 'Dogo Argentino',\n       'Dogue de Bordeaux', 'Dutch Shepherd', 'English Cocker Spaniel',\n       'English Foxhound', 'English Setter', 'English Springer Spaniel',\n       'English Toy Spaniel', 'Entlebucher Mountain Dog', 'Field Spaniel',\n       'Finnish Lapphund', 'Finnish Spitz', 'Flat-Coated Retriever',\n       'Fox Terrier', 'French Bulldog', 'German Pinscher',\n       'German Shepherd Dog', 'German Shorthaired Pointer',\n       'German Wirehaired Pointer', 'Giant Schnauzer',\n       'Glen of Imaal Terrier', 'Goldador', 'Golden Retriever',\n       'Goldendoodle', 'Gordon Setter', 'Great Dane', 'Great Pyrenees',\n       'Greater Swiss Mountain Dog', 'Greyhound', 'Harrier', 'Havanese',\n       'Ibizan Hound', 'Icelandic Sheepdog', 'Irish Red and White Setter',\n       'Irish Setter', 'Irish Terrier', 'Irish Water Spaniel',\n       'Irish Wolfhound', 'Italian Greyhound', 'Jack Russell Terrier',\n       'Japanese Chin', 'Japanese Spitz', 'Karelian Bear Dog', 'Keeshond',\n       'Kerry Blue Terrier', 'Komondor', 'Kooikerhondje', 'Kuvasz',\n       'Labradoodle', 'Labrador Retriever', 'Lagotto Romagnolo',\n       'Lakeland Terrier', 'Lancashire Heeler', 'Leonberger',\n       'Lhasa Apso', 'Lowchen', 'Maltese', 'Maltese Shih Tzu', 'Maltipoo',\n       'Manchester Terrier', 'Mastiff', 'Miniature Pinscher',\n       'Miniature Schnauzer', 'Mudi', 'Mutt', 'Neapolitan Mastiff',\n       'Newfoundland', 'Norfolk Terrier', 'Norwegian Buhund',\n       'Norwegian Elkhound', 'Norwegian Lundehund', 'Norwich Terrier',\n       'Nova Scotia Duck Tolling Retriever', 'Old English Sheepdog',\n       'Otterhound', 'Papillon', 'Peekapoo', 'Pekingese',\n       'Pembroke Welsh Corgi', 'Petit Basset Griffon Vendeen',\n       'Pharaoh Hound', 'Plott', 'Pocket Beagle', 'Pointer',\n       'Polish Lowland Sheepdog', 'Pomeranian', 'Pomsky', 'Poodle',\n       'Portuguese Water Dog', 'Pug', 'Puggle', 'Puli',\n       'Pyrenean Shepherd', 'Rat Terrier', 'Redbone Coonhound',\n       'Rhodesian Ridgeback', 'Rottweiler', 'Saint Bernard', 'Saluki',\n       'Samoyed', 'Schipperke', 'Schnoodle', 'Scottish Deerhound',\n       'Scottish Terrier', 'Sealyham Terrier', 'Shetland Sheepdog',\n       'Shiba Inu', 'Shih Tzu', 'Siberian Husky', 'Silken Windhound',\n       'Silky Terrier', 'Skye Terrier', 'Sloughi',\n       'Small Munsterlander Pointer', 'Soft Coated Wheaten Terrier',\n       'Stabyhoun', 'Staffordshire Bull Terrier', 'Standard Schnauzer',\n       'Sussex Spaniel', 'Swedish Vallhund', 'Tibetan Mastiff',\n       'Tibetan Spaniel', 'Tibetan Terrier', 'Toy Fox Terrier',\n       'Treeing Tennessee Brindle', 'Treeing Walker Coonhound', 'Vizsla',\n       'Weimaraner', 'Welsh Springer Spaniel', 'Welsh Terrier',\n       'West Highland White Terrier', 'Whippet',\n       'Wirehaired Pointing Griffon', 'Yorkipoo', 'Yorkshire Terrier'],\n      dtype=object)"
     },
     "execution_count": 136,
     "metadata": {},
     "output_type": "execute_result"
    }
   ],
   "source": [
    "breeds.values"
   ]
  },
  {
   "cell_type": "code",
   "execution_count": 137,
   "metadata": {},
   "outputs": [],
   "source": [
    "rds_connection_string = (f\"{postgresLogin}:{postgresPwd}@localhost:5432/nyc_dogs_db\")\n",
    "engine = create_engine(f'postgresql://{rds_connection_string}')"
   ]
  },
  {
   "cell_type": "code",
   "execution_count": 138,
   "metadata": {},
   "outputs": [
    {
     "data": {
      "text/plain": "['nyc_dog', 'dog_rating']"
     },
     "execution_count": 138,
     "metadata": {},
     "output_type": "execute_result"
    }
   ],
   "source": [
    "engine.table_names()"
   ]
  },
  {
   "cell_type": "code",
   "execution_count": 149,
   "metadata": {},
   "outputs": [
    {
     "data": {
      "text/html": "<div>\n<style scoped>\n    .dataframe tbody tr th:only-of-type {\n        vertical-align: middle;\n    }\n\n    .dataframe tbody tr th {\n        vertical-align: top;\n    }\n\n    .dataframe thead th {\n        text-align: right;\n    }\n</style>\n<table border=\"1\" class=\"dataframe\">\n  <thead>\n    <tr style=\"text-align: right;\">\n      <th></th>\n      <th>size</th>\n      <th>intelligence</th>\n      <th>energy</th>\n      <th>exercise_needs</th>\n      <th>friendly_overall</th>\n      <th>friendly_kids</th>\n      <th>friendly_strangers</th>\n    </tr>\n    <tr>\n      <th>breed</th>\n      <th></th>\n      <th></th>\n      <th></th>\n      <th></th>\n      <th></th>\n      <th></th>\n      <th></th>\n    </tr>\n  </thead>\n  <tbody>\n    <tr>\n      <td>Affenpinscher</td>\n      <td>1</td>\n      <td>4</td>\n      <td>4</td>\n      <td>3</td>\n      <td>3</td>\n      <td>1</td>\n      <td>3</td>\n    </tr>\n    <tr>\n      <td>Afghan Hound</td>\n      <td>4</td>\n      <td>4</td>\n      <td>5</td>\n      <td>4</td>\n      <td>4</td>\n      <td>5</td>\n      <td>2</td>\n    </tr>\n    <tr>\n      <td>Airedale Terrier</td>\n      <td>3</td>\n      <td>5</td>\n      <td>5</td>\n      <td>5</td>\n      <td>4</td>\n      <td>4</td>\n      <td>3</td>\n    </tr>\n    <tr>\n      <td>Akita</td>\n      <td>4</td>\n      <td>3</td>\n      <td>4</td>\n      <td>4</td>\n      <td>2</td>\n      <td>1</td>\n      <td>2</td>\n    </tr>\n    <tr>\n      <td>Alaskan Klee Kai</td>\n      <td>2</td>\n      <td>4</td>\n      <td>4</td>\n      <td>4</td>\n      <td>3</td>\n      <td>3</td>\n      <td>2</td>\n    </tr>\n    <tr>\n      <td>...</td>\n      <td>...</td>\n      <td>...</td>\n      <td>...</td>\n      <td>...</td>\n      <td>...</td>\n      <td>...</td>\n      <td>...</td>\n    </tr>\n    <tr>\n      <td>West Highland White Terrier</td>\n      <td>2</td>\n      <td>4</td>\n      <td>4</td>\n      <td>4</td>\n      <td>4</td>\n      <td>4</td>\n      <td>3</td>\n    </tr>\n    <tr>\n      <td>Whippet</td>\n      <td>3</td>\n      <td>4</td>\n      <td>5</td>\n      <td>5</td>\n      <td>5</td>\n      <td>5</td>\n      <td>4</td>\n    </tr>\n    <tr>\n      <td>Wirehaired Pointing Griffon</td>\n      <td>3</td>\n      <td>5</td>\n      <td>5</td>\n      <td>4</td>\n      <td>5</td>\n      <td>5</td>\n      <td>5</td>\n    </tr>\n    <tr>\n      <td>Yorkipoo</td>\n      <td>1</td>\n      <td>4</td>\n      <td>5</td>\n      <td>3</td>\n      <td>4</td>\n      <td>4</td>\n      <td>2</td>\n    </tr>\n    <tr>\n      <td>Yorkshire Terrier</td>\n      <td>1</td>\n      <td>3</td>\n      <td>5</td>\n      <td>4</td>\n      <td>3</td>\n      <td>2</td>\n      <td>2</td>\n    </tr>\n  </tbody>\n</table>\n<p>214 rows × 7 columns</p>\n</div>",
      "text/plain": "                             size  intelligence  energy  exercise_needs  \\\nbreed                                                                     \nAffenpinscher                   1             4       4               3   \nAfghan Hound                    4             4       5               4   \nAiredale Terrier                3             5       5               5   \nAkita                           4             3       4               4   \nAlaskan Klee Kai                2             4       4               4   \n...                           ...           ...     ...             ...   \nWest Highland White Terrier     2             4       4               4   \nWhippet                         3             4       5               5   \nWirehaired Pointing Griffon     3             5       5               4   \nYorkipoo                        1             4       5               3   \nYorkshire Terrier               1             3       5               4   \n\n                             friendly_overall  friendly_kids  \\\nbreed                                                          \nAffenpinscher                               3              1   \nAfghan Hound                                4              5   \nAiredale Terrier                            4              4   \nAkita                                       2              1   \nAlaskan Klee Kai                            3              3   \n...                                       ...            ...   \nWest Highland White Terrier                 4              4   \nWhippet                                     5              5   \nWirehaired Pointing Griffon                 5              5   \nYorkipoo                                    4              4   \nYorkshire Terrier                           3              2   \n\n                             friendly_strangers  \nbreed                                            \nAffenpinscher                                 3  \nAfghan Hound                                  2  \nAiredale Terrier                              3  \nAkita                                         2  \nAlaskan Klee Kai                              2  \n...                                         ...  \nWest Highland White Terrier                   3  \nWhippet                                       4  \nWirehaired Pointing Griffon                   5  \nYorkipoo                                      2  \nYorkshire Terrier                             2  \n\n[214 rows x 7 columns]"
     },
     "execution_count": 149,
     "metadata": {},
     "output_type": "execute_result"
    }
   ],
   "source": [
    "new_dog_df.index.name = 'breed'\n",
    "new_dog_df"
   ]
  },
  {
   "cell_type": "code",
   "execution_count": 150,
   "metadata": {},
   "outputs": [],
   "source": [
    "#load data to postgres\n",
    "\n",
    "new_dog_df.to_sql(name='dog_rating', con=engine, if_exists='append', index=True)"
   ]
  }
 ],
 "metadata": {
  "kernelspec": {
   "display_name": "Python 3",
   "language": "python",
   "name": "python3"
  },
  "language_info": {
   "codemirror_mode": {
    "name": "ipython",
    "version": 3
   },
   "file_extension": ".py",
   "mimetype": "text/x-python",
   "name": "python",
   "nbconvert_exporter": "python",
   "pygments_lexer": "ipython3",
   "version": "3.7.4-final"
  }
 },
 "nbformat": 4,
 "nbformat_minor": 2
}